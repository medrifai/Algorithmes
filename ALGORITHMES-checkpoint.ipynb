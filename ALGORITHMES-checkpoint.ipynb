{
 "cells": [
  {
   "cell_type": "code",
   "execution_count": 1,
   "id": "7a557c19",
   "metadata": {},
   "outputs": [
    {
     "data": {
      "text/plain": [
       "False"
      ]
     },
     "execution_count": 1,
     "metadata": {},
     "output_type": "execute_result"
    }
   ],
   "source": [
    "l = sorted ([2,8,5,1,3])\n",
    "n = 6\n",
    "\n",
    "def binary_search (l,n) :\n",
    "    \n",
    "    flag = False\n",
    "    while len(l) != 1 :\n",
    "        mid = len (l) // 2\n",
    "        if n == l [mid] :\n",
    "            flag = True\n",
    "            break \n",
    "        elif n > l[mid] :\n",
    "            l = l[mid :]\n",
    "        else :\n",
    "            l = l[:mid]\n",
    "            \n",
    "    return flag\n",
    "binary_search (l,n)"
   ]
  },
  {
   "cell_type": "code",
   "execution_count": 2,
   "id": "9ecfa50f",
   "metadata": {},
   "outputs": [
    {
     "data": {
      "text/plain": [
       "125"
      ]
     },
     "execution_count": 2,
     "metadata": {},
     "output_type": "execute_result"
    }
   ],
   "source": [
    "def pwer ( a,b ) :\n",
    "    if b == 0 :\n",
    "        return 1\n",
    "    else :\n",
    "        return a * pwer (a , b-1)\n",
    "\n",
    "pwer (5,3)\n"
   ]
  },
  {
   "cell_type": "code",
   "execution_count": 3,
   "id": "d576a290",
   "metadata": {},
   "outputs": [
    {
     "name": "stdout",
     "output_type": "stream",
     "text": [
      "[1, 2, 3, 5, 8]\n"
     ]
    }
   ],
   "source": [
    "l =[2,8,5,1,3]\n",
    "for i in range (len(l)) :\n",
    "    for j in range(len(l)-1-i) :\n",
    "        if l[j] > l[j + 1]:\n",
    "            l[j] , l[j + 1] = l[j+1] , l[j]\n",
    "print (l)\n"
   ]
  },
  {
   "cell_type": "code",
   "execution_count": 9,
   "id": "20873ddb",
   "metadata": {},
   "outputs": [
    {
     "data": {
      "text/plain": [
       "[1, 2, 4, 5, 8]"
      ]
     },
     "execution_count": 9,
     "metadata": {},
     "output_type": "execute_result"
    }
   ],
   "source": [
    "l = [5,8 ,4 ,2 ,1 ]\n",
    "def merge (l1,l2) :\n",
    "    i = 0\n",
    "    j = 0\n",
    "    L = []\n",
    "    while i < len (l1) and j < len(l2) :\n",
    "        if l1[i] < l2[j] :\n",
    "            L.append(l1[i])\n",
    "            i += 1\n",
    "        else :\n",
    "            L.append (l2[j])\n",
    "            j += 1\n",
    "    if i == len(l1):\n",
    "        L = L + l2[j:]\n",
    "    else :\n",
    "        \n",
    "        L = L + l1[i:]\n",
    "    \n",
    "    return L\n",
    "\n",
    "\n",
    "def mergeSort (l) :\n",
    "    if len(l) <= 1 : \n",
    "        return l\n",
    "    else :\n",
    "        mid = len(l) // 2\n",
    "        return merge (mergeSort(l[:mid]), mergeSort(l[mid:]))\n",
    "mergeSort(l)"
   ]
  },
  {
   "cell_type": "code",
   "execution_count": 20,
   "id": "8cdaf95a",
   "metadata": {},
   "outputs": [
    {
     "name": "stdout",
     "output_type": "stream",
     "text": [
      "[3, 5, 8, 9, 10, 12]\n"
     ]
    }
   ],
   "source": [
    "def partition(array, start, end):\n",
    "    pivot = array[start]\n",
    "    low = start + 1\n",
    "    high = end\n",
    "    while True:\n",
    "        while low <= high and array[high] >= pivot:\n",
    "            high = high - 1\n",
    "\n",
    "        while low <= high and array[low] <= pivot:\n",
    "            low = low + 1\n",
    "\n",
    "        if low <= high:\n",
    "            array[low], array[high] = array[high], array[low]\n",
    "        else:\n",
    "            break\n",
    "\n",
    "    array[start], array[high] = array[high], array[start]\n",
    "    return high\n",
    "def quick_sort(array, start, end):\n",
    "    if start >= end:\n",
    "        return\n",
    "\n",
    "    p = partition(array, start, end)\n",
    "    quick_sort(array, start, p-1)\n",
    "    quick_sort(array, p+1, end)\n",
    "array = [12,5,9,10,8,3]\n",
    "quick_sort(array, 0, len(array) - 1)\n",
    "print(array)"
   ]
  }
 ],
 "metadata": {
  "kernelspec": {
   "display_name": "Python 3 (ipykernel)",
   "language": "python",
   "name": "python3"
  },
  "language_info": {
   "codemirror_mode": {
    "name": "ipython",
    "version": 3
   },
   "file_extension": ".py",
   "mimetype": "text/x-python",
   "name": "python",
   "nbconvert_exporter": "python",
   "pygments_lexer": "ipython3",
   "version": "3.9.7"
  }
 },
 "nbformat": 4,
 "nbformat_minor": 5
}
